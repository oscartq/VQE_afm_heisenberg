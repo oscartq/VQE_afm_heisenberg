{
 "cells": [
  {
   "cell_type": "code",
   "execution_count": 5,
   "metadata": {},
   "outputs": [],
   "source": [
    "import os \n",
    "import sys\n",
    "import datetime\n",
    "import csv \n",
    "\n",
    "import cirq\n",
    "import qsimcirq\n",
    "import openfermion as of\n",
    "import numpy as np\n",
    "from scipy.sparse import linalg\n",
    "import multiprocessing as mp\n",
    "Pi=3.1415\n"
   ]
  },
  {
   "cell_type": "markdown",
   "metadata": {},
   "source": [
    "$$ \\begin{align} H = &- t \\sum_{\\langle i,j \\rangle} \\sum_{\\sigma} (a^\\dagger_{i, \\sigma} a_{j, \\sigma} + a^\\dagger_{j, \\sigma} a_{i, \\sigma})\n",
    "\n",
    "\n",
    "     + U \\sum_{i} a^\\dagger_{i, \\uparrow} a_{i, \\uparrow}\n",
    "                 a^\\dagger_{i, \\downarrow} a_{i, \\downarrow}\n",
    "    \\\\\n",
    "    &- \\mu \\sum_i \\sum_{\\sigma} a^\\dagger_{i, \\sigma} a_{i, \\sigma}\n",
    "     - h \\sum_i (a^\\dagger_{i, \\uparrow} a_{i, \\uparrow} -\n",
    "               a^\\dagger_{i, \\downarrow} a_{i, \\downarrow})\n",
    "\\end{align}\n",
    "$$\n",
    "\n",
    "$$\n",
    "    U \\sum_{k=1}^{N-1} a_k^\\dagger a_k a_{k+1}^\\dagger a_{k+1}\n",
    "$$\n",
    "\n",
    "\n",
    "If True, the repulsion term is replaced by:\n",
    "\n",
    "\n",
    "$$\n",
    "    U \\sum_{k=1}^{N-1} (a_k^\\dagger a_k - \\frac12)\n",
    "                       (a_{k+1}^\\dagger a_{k+1} - \\frac12)\n",
    "$$\n",
    "\n",
    "\n",
    "which is unchanged under a particle-hole transformation.\n",
    "Default is False\n"
   ]
  },
  {
   "cell_type": "code",
   "execution_count": 3,
   "metadata": {},
   "outputs": [],
   "source": [
    "class HubbardArgs():\n",
    "    def __init__(self, \n",
    "                x_dimension,\n",
    "                y_dimension,\n",
    "                tunneling,\n",
    "                coulomb,\n",
    "                chemical_potential=0.0,\n",
    "                magnetic_field=0.0,\n",
    "                periodic=True,\n",
    "                spinless=False,\n",
    "                particle_hole_symmetry=False,\n",
    "                qsim_option=None):\n",
    "        \n",
    "        self.x_dimension = x_dimension\n",
    "        self.y_dimension = y_dimension\n",
    "        self.tunneling = tunneling\n",
    "        self.coulomb = coulomb\n",
    "        \n",
    "        self.chemical_potential = chemical_potential\n",
    "        self.magnetic_field = magnetic_field\n",
    "        self.periodic = periodic\n",
    "        self.spinless = spinless\n",
    "        self.particle_hole_symmetry = particle_hole_symmetry\n",
    "\n",
    "        if not (qsim_option):\n",
    "            self.qsim_option = qsim_option\n",
    "        else:\n",
    "            qsim_option = {'t': 4, 'f': 1}\n"
   ]
  },
  {
   "cell_type": "code",
   "execution_count": 54,
   "metadata": {},
   "outputs": [],
   "source": [
    "def exact_eigenvalue( \n",
    "                x_dimension=1,\n",
    "                y_dimension=4,\n",
    "                tunneling=1,\n",
    "                coulomb=4,\n",
    "                chemical_potential=0.0,\n",
    "                magnetic_field=0.0,\n",
    "                periodic=True,\n",
    "                spinless=False,\n",
    "                particle_hole_symmetry=False,\n",
    "                qsim_option=None, \n",
    "                particle_n=4):\n",
    "    function_args = HubbardArgs( \n",
    "                    x_dimension,\n",
    "                    y_dimension,\n",
    "                    tunneling,\n",
    "                    coulomb,\n",
    "                    chemical_potential,\n",
    "                    magnetic_field,\n",
    "                    periodic,\n",
    "                    spinless,\n",
    "                    particle_hole_symmetry,\n",
    "                    qsim_option)\n",
    "\n",
    "    # define a Hubbard hamiltonian and convert into qubit operator through jordan-wigner transformation\n",
    "    fermion_hamiltonian = of.fermi_hubbard(\n",
    "        function_args.x_dimension,\n",
    "        function_args.y_dimension,\n",
    "        function_args.tunneling,\n",
    "        function_args.coulomb,\n",
    "        function_args.chemical_potential,\n",
    "        function_args.magnetic_field,\n",
    "        function_args.periodic,\n",
    "        function_args.spinless,\n",
    "        function_args.particle_hole_symmetry\n",
    "    )\n",
    "    qubit_hamiltonian = of.transforms.jordan_wigner(fermion_hamiltonian)\n",
    "\n",
    "    # Convert to Scipy sparse matrix\n",
    "    hamiltonian_jw_sparse = of.get_sparse_operator(qubit_hamiltonian)\n",
    "\n",
    "    # Compute ground energy\n",
    "    eigs, _ = linalg.eigsh(hamiltonian_jw_sparse, k=1, which=\"SA\")\n",
    "    ground_energy = eigs[0]\n",
    "    # print(\"Ground_energy: {}\".format(ground_energy))\n",
    "    # print(\"JWT transformed Hamiltonian:\")\n",
    "    # print(qubit_hamiltonian)\n",
    "\n",
    "    energy_on_n = of.linalg.jw_get_ground_state_at_particle_number(\n",
    "        hamiltonian_jw_sparse, particle_n\n",
    "    )\n",
    "    \n",
    "    # print(energy_on_n[0])\n",
    "    return ground_energy, energy_on_n[0]\n",
    "\n"
   ]
  },
  {
   "cell_type": "markdown",
   "metadata": {},
   "source": [
    "check if energy values equal to its exact one\n",
    "\n",
    "Ut=2and4, on half-filling\n",
    "- [x] W=1 L=2 \n",
    "- [x] W=1 L=4 \n",
    "- [x] W=1 L=8\n",
    "- [x] W=2 L=2\n",
    "- [ ] W=2 L=4\n"
   ]
  },
  {
   "cell_type": "code",
   "execution_count": 55,
   "metadata": {},
   "outputs": [
    {
     "name": "stdout",
     "output_type": "stream",
     "text": [
      "x y n c energy, energy_on_n\n",
      "1 2 1 2 (-1.2360679774997891, -1.0000000000000004)\n",
      "1 2 1 4 (-1.0000000000000013, -0.9999999999999999)\n",
      "1 2 2 2 (-1.2360679774997902, -1.2360679774997894)\n",
      "1 2 2 4 (-1.000000000000002, -0.8284271247461907)\n"
     ]
    }
   ],
   "source": [
    "print(\"x y n c energy, energy_on_n\")\n",
    "for x in [1]:\n",
    "    for y in [2]:\n",
    "        for n in [1,2]:\n",
    "            for coulomb in [2,4]:\n",
    "                print(x, y, n, coulomb, exact_eigenvalue(\n",
    "                    x_dimension=x, y_dimension=y,coulomb=coulomb, particle_n=n\n",
    "                ))"
   ]
  },
  {
   "cell_type": "code",
   "execution_count": 56,
   "metadata": {},
   "outputs": [
    {
     "name": "stdout",
     "output_type": "stream",
     "text": [
      "x y n c energy, energy_on_n\n",
      "1 4 2 2 (-3.6272130052966616, -3.627213005296653)\n",
      "1 4 2 4 (-3.418550718873847, -3.4185507188738455)\n",
      "1 4 4 2 (-3.627213005296658, -2.828427124746192)\n",
      "1 4 4 4 (-3.418550718873843, -2.102748483462073)\n",
      "1 4 8 2 (-3.627213005296665, 8.0)\n",
      "1 4 8 4 (-3.418550718873837, 16.0)\n"
     ]
    }
   ],
   "source": [
    "print(\"x y n c energy, energy_on_n\")\n",
    "for x in [1]:\n",
    "    for y in [4]:\n",
    "        for n in [2,4,8]:\n",
    "            for coulomb in [2,4]:\n",
    "                print(x, y, n, coulomb, exact_eigenvalue(\n",
    "                    x_dimension=x, y_dimension=y,coulomb=coulomb, particle_n=n\n",
    "                ))"
   ]
  },
  {
   "cell_type": "code",
   "execution_count": 49,
   "metadata": {},
   "outputs": [
    {
     "name": "stdout",
     "output_type": "stream",
     "text": [
      "x y n c energy, energy_on_n\n",
      "1 8 2 2 (-7.826311280176336, -3.854940367646751)\n",
      "1 8 2 4 (-6.672195997058454, -3.8005393112446404)\n",
      "1 8 4 2 (-7.8263112801763715, -6.261566147504012)\n",
      "1 8 4 4 (-6.672195997058458, -5.951702657355303)\n",
      "1 8 8 2 (-7.826311280176379, -6.568192162874705)\n",
      "1 8 8 4 (-6.672195997058454, -4.6035262999891975)\n"
     ]
    }
   ],
   "source": [
    "print(\"x y n c energy, energy_on_n\")\n",
    "for x in [1]:\n",
    "    for y in [8]:\n",
    "        for n in [2,4,8]:\n",
    "            for coulomb in [2,4]:\n",
    "                print(x, y, n, coulomb, exact_eigenvalue(\n",
    "                    x_dimension=x, y_dimension=y,coulomb=coulomb, particle_n=n\n",
    "                ))"
   ]
  },
  {
   "cell_type": "code",
   "execution_count": 57,
   "metadata": {},
   "outputs": [
    {
     "name": "stdout",
     "output_type": "stream",
     "text": [
      "x y n c energy, energy_on_n\n",
      "2 2 4 2 (-3.627213005296674, -2.8284271247461907)\n",
      "2 2 4 4 (-3.4185507188738473, -2.1027484834620696)\n",
      "2 2 8 2 (-3.627213005296672, 8.0)\n",
      "2 2 8 4 (-3.4185507188738504, 16.0)\n",
      "2 4 4 2 (-8.47830329686955, -7.431230836069724)\n",
      "2 4 4 4 (-7.6124749277658745, -7.0922664292384585)\n",
      "2 4 8 2 (-8.478303296869584, -8.478303296869631)\n",
      "2 4 8 4 (-7.612474927765864, -5.954236681057309)\n"
     ]
    }
   ],
   "source": [
    "print(\"x y n c energy, energy_on_n\")\n",
    "for x in [2]:\n",
    "    for y in [2,4]:\n",
    "        for n in [4,8]:\n",
    "            for coulomb in [2,4]:\n",
    "                print(x, y, n, coulomb, exact_eigenvalue(\n",
    "                    x_dimension=x, y_dimension=y,coulomb=coulomb, particle_n=n\n",
    "                ))"
   ]
  },
  {
   "cell_type": "code",
   "execution_count": 58,
   "metadata": {},
   "outputs": [
    {
     "name": "stdout",
     "output_type": "stream",
     "text": [
      "x y n c energy, energy_on_n\n",
      "2 2 4 2 (-3.627213005296672, -2.8284271247461907)\n",
      "2 2 4 4 (-3.4185507188738415, -2.102748483462075)\n",
      "2 2 8 2 (-3.627213005296659, 8.0)\n",
      "2 2 8 4 (-3.4185507188738473, 16.0)\n",
      "2 4 4 2 (-7.912602325322799, -7.713287732110458)\n",
      "2 4 4 4 (-7.2744870134962625, -7.274487013496239)\n",
      "2 4 8 2 (-7.912602325322815, -7.117446580313431)\n",
      "2 4 8 4 (-7.2744870134962305, -5.012503152657044)\n"
     ]
    }
   ],
   "source": [
    "print(\"x y n c energy, energy_on_n\")\n",
    "for x in [2]:\n",
    "    for y in [2,4]:\n",
    "        for n in [4,8]:\n",
    "            for coulomb in [2,4]:\n",
    "                print(x, y, n, coulomb, exact_eigenvalue(\n",
    "                    x_dimension=x, y_dimension=y,coulomb=coulomb, particle_n=n,\n",
    "                    periodic=False\n",
    "                ))"
   ]
  },
  {
   "cell_type": "markdown",
   "metadata": {},
   "source": []
  },
  {
   "cell_type": "code",
   "execution_count": null,
   "metadata": {},
   "outputs": [],
   "source": [
    "# circuit hubbard"
   ]
  },
  {
   "cell_type": "code",
   "execution_count": null,
   "metadata": {},
   "outputs": [],
   "source": [
    "# bcs state circuit\n",
    "\n",
    "function_args = HubbardArgs( \n",
    "                x_dimension,\n",
    "                y_dimension,\n",
    "                tunneling,\n",
    "                coulomb,\n",
    "                chemical_potential,\n",
    "                magnetic_field,\n",
    "                periodic,\n",
    "                spinless,\n",
    "                particle_hole_symmetry,\n",
    "                qsim_option)\n",
    "\n",
    "mean_field_model = of.mean_field_dwave(\n",
    "    x_dimension, y_dimension, tunneling, sc_gap, periodic)\n",
    "quad_ham = of.get_quadratic_hamiltonian(mean_field_model)\n",
    "\n",
    "\n",
    "_, basis_change_matrix, _ = quad_ham.diagonalizing_bogoliubov_transform()\n",
    "qubits = cirq.LineQubit.range(n_qubits)\n",
    "circuit = cirq.Circuit(of.circuits.bogoliubov_transform(qubits, basis_change_matrix))\n"
   ]
  },
  {
   "cell_type": "code",
   "execution_count": null,
   "metadata": {},
   "outputs": [],
   "source": [
    "# bcs e^(-iHt) circuit\n"
   ]
  },
  {
   "cell_type": "code",
   "execution_count": null,
   "metadata": {},
   "outputs": [],
   "source": [
    "# hubbard e^(-iHt) circuit\n"
   ]
  },
  {
   "cell_type": "code",
   "execution_count": null,
   "metadata": {},
   "outputs": [],
   "source": [
    "# anzats hubbard\n",
    "\n",
    "# for layer in range(p)\n",
    "\n",
    "    # H1 bcs \n",
    "\n",
    "    # H2 hubbard\n",
    "\n"
   ]
  },
  {
   "cell_type": "code",
   "execution_count": null,
   "metadata": {},
   "outputs": [],
   "source": [
    "# expectation hubbard"
   ]
  },
  {
   "cell_type": "code",
   "execution_count": null,
   "metadata": {},
   "outputs": [],
   "source": [
    "# optimize"
   ]
  }
 ],
 "metadata": {
  "kernelspec": {
   "display_name": "Python 3",
   "language": "python",
   "name": "python3"
  },
  "language_info": {
   "codemirror_mode": {
    "name": "ipython",
    "version": 3
   },
   "file_extension": ".py",
   "mimetype": "text/x-python",
   "name": "python",
   "nbconvert_exporter": "python",
   "pygments_lexer": "ipython3",
   "version": "3.11.2"
  }
 },
 "nbformat": 4,
 "nbformat_minor": 2
}
