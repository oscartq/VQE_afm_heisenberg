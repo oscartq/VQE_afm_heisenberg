{
 "cells": [
  {
   "cell_type": "code",
   "execution_count": 1,
   "id": "a386f30a",
   "metadata": {},
   "outputs": [
    {
     "name": "stdout",
     "output_type": "stream",
     "text": [
      "Directory .results/100iter cleared.\n",
      "Directory .results/100iter created.\n"
     ]
    },
    {
     "ename": "IsADirectoryError",
     "evalue": "[Errno 21] Is a directory: '.results/100iter'",
     "output_type": "error",
     "traceback": [
      "\u001b[0;31m---------------------------------------------------------------------------\u001b[0m",
      "\u001b[0;31mIsADirectoryError\u001b[0m                         Traceback (most recent call last)",
      "Cell \u001b[0;32mIn[1], line 69\u001b[0m\n\u001b[1;32m     65\u001b[0m         f\u001b[38;5;241m.\u001b[39mflush()\n\u001b[1;32m     67\u001b[0m clear_and_recreate_directory(filepath_o)\n\u001b[0;32m---> 69\u001b[0m \u001b[38;5;28;01mwith\u001b[39;00m \u001b[38;5;28;43mopen\u001b[39;49m\u001b[43m(\u001b[49m\u001b[43mfilepath\u001b[49m\u001b[43m,\u001b[49m\u001b[43m \u001b[49m\u001b[43mmode\u001b[49m\u001b[38;5;241;43m=\u001b[39;49m\u001b[38;5;124;43m'\u001b[39;49m\u001b[38;5;124;43mw\u001b[39;49m\u001b[38;5;124;43m'\u001b[39;49m\u001b[43m,\u001b[49m\u001b[43m \u001b[49m\u001b[43mnewline\u001b[49m\u001b[38;5;241;43m=\u001b[39;49m\u001b[38;5;124;43m'\u001b[39;49m\u001b[38;5;124;43m'\u001b[39;49m\u001b[43m)\u001b[49m \u001b[38;5;28;01mas\u001b[39;00m f:\n\u001b[1;32m     70\u001b[0m         writer \u001b[38;5;241m=\u001b[39m csv\u001b[38;5;241m.\u001b[39mwriter(f)\n\u001b[1;32m     71\u001b[0m         headline \u001b[38;5;241m=\u001b[39m [\u001b[38;5;124m\"\u001b[39m\u001b[38;5;124miter\u001b[39m\u001b[38;5;124m\"\u001b[39m, \u001b[38;5;124m\"\u001b[39m\u001b[38;5;124menergy\u001b[39m\u001b[38;5;124m\"\u001b[39m]\n",
      "File \u001b[0;32m~/miniconda3/envs/toqu/lib/python3.11/site-packages/IPython/core/interactiveshell.py:324\u001b[0m, in \u001b[0;36m_modified_open\u001b[0;34m(file, *args, **kwargs)\u001b[0m\n\u001b[1;32m    317\u001b[0m \u001b[38;5;28;01mif\u001b[39;00m file \u001b[38;5;129;01min\u001b[39;00m {\u001b[38;5;241m0\u001b[39m, \u001b[38;5;241m1\u001b[39m, \u001b[38;5;241m2\u001b[39m}:\n\u001b[1;32m    318\u001b[0m     \u001b[38;5;28;01mraise\u001b[39;00m \u001b[38;5;167;01mValueError\u001b[39;00m(\n\u001b[1;32m    319\u001b[0m         \u001b[38;5;124mf\u001b[39m\u001b[38;5;124m\"\u001b[39m\u001b[38;5;124mIPython won\u001b[39m\u001b[38;5;124m'\u001b[39m\u001b[38;5;124mt let you open fd=\u001b[39m\u001b[38;5;132;01m{\u001b[39;00mfile\u001b[38;5;132;01m}\u001b[39;00m\u001b[38;5;124m by default \u001b[39m\u001b[38;5;124m\"\u001b[39m\n\u001b[1;32m    320\u001b[0m         \u001b[38;5;124m\"\u001b[39m\u001b[38;5;124mas it is likely to crash IPython. If you know what you are doing, \u001b[39m\u001b[38;5;124m\"\u001b[39m\n\u001b[1;32m    321\u001b[0m         \u001b[38;5;124m\"\u001b[39m\u001b[38;5;124myou can use builtins\u001b[39m\u001b[38;5;124m'\u001b[39m\u001b[38;5;124m open.\u001b[39m\u001b[38;5;124m\"\u001b[39m\n\u001b[1;32m    322\u001b[0m     )\n\u001b[0;32m--> 324\u001b[0m \u001b[38;5;28;01mreturn\u001b[39;00m \u001b[43mio_open\u001b[49m\u001b[43m(\u001b[49m\u001b[43mfile\u001b[49m\u001b[43m,\u001b[49m\u001b[43m \u001b[49m\u001b[38;5;241;43m*\u001b[39;49m\u001b[43margs\u001b[49m\u001b[43m,\u001b[49m\u001b[43m \u001b[49m\u001b[38;5;241;43m*\u001b[39;49m\u001b[38;5;241;43m*\u001b[39;49m\u001b[43mkwargs\u001b[49m\u001b[43m)\u001b[49m\n",
      "\u001b[0;31mIsADirectoryError\u001b[0m: [Errno 21] Is a directory: '.results/100iter'"
     ]
    }
   ],
   "source": [
    "from scipy.optimize import minimize\n",
    "import numpy as np\n",
    "import matplotlib.pyplot as plt\n",
    "import shutil\n",
    "import os\n",
    "import csv\n",
    "from expectation import get_expectation_afm_heisenberg, AFMHeisenbergArgs\n",
    "from functools import partial\n",
    "\n",
    "p = 3\n",
    "length = 4\n",
    "filepath_o = \".results/100iter\"\n",
    "filepath = \"100iter\"\n",
    "figure = True\n",
    "b = (0,1)\n",
    "bounds = [b] * (2 * p)  # Create a list of bounds of length 2 * p\n",
    "\n",
    "qsim_option = {'t': int(length / 2), 'f': 1}\n",
    "\n",
    "initial_gamma = np.array([0.6 for i in range(p)])\n",
    "initial_beta = np.array([0.6 for i in range(p)])\n",
    "init_param = np.concatenate([initial_gamma, initial_beta])\n",
    "\n",
    "def clear_and_recreate_directory(dir_path):\n",
    "    try:\n",
    "        if os.path.exists(dir_path):\n",
    "            shutil.rmtree(dir_path)\n",
    "            print(f\"Directory {dir_path} cleared.\")\n",
    "        os.makedirs(dir_path)\n",
    "        print(f\"Directory {dir_path} created.\")\n",
    "    except Exception as e:\n",
    "        print(f\"Error occurred while trying to clear and recreate the directory: {e}\")\n",
    "\n",
    "function_args = AFMHeisenbergArgs(length, qsim_option)\n",
    "function = partial(get_expectation_afm_heisenberg, function_args=function_args)\n",
    "\n",
    "def energy_dummy(params):\n",
    "    gamma, beta = np.split(params, 2)\n",
    "    energy = function(gamma=gamma, beta=beta)\n",
    "    return energy\n",
    "\n",
    "# Define the gradient function\n",
    "def numerical_gradient(func, params, epsilon=1e-2):\n",
    "    grad = np.zeros_like(params)\n",
    "    for i in range(len(params)):\n",
    "        params_eps = np.array(params)\n",
    "        params_eps[i] += epsilon\n",
    "        grad[i] = (func(params_eps) - func(params)) / epsilon\n",
    "    return grad\n",
    "\n",
    "history_params = []\n",
    "history_energy = []\n",
    "\n",
    "def callback(params):\n",
    "    history_params.append(params)\n",
    "    history_energy.append(energy_dummy(params))\n",
    "    gamma, beta = np.split(params, 2)\n",
    "    record = [len(history_energy), energy_dummy(params)] + list(gamma) + list(beta)\n",
    "    # Open the file in append mode and write the record\n",
    "    with open(filepath, mode='a', newline='') as f:\n",
    "        writer = csv.writer(f)\n",
    "        writer.writerow(record)\n",
    "        if figure:\n",
    "            print(record)\n",
    "        f.flush()\n",
    "\n",
    "clear_and_recreate_directory(filepath_o)\n",
    "\n",
    "with open(filepath, mode='w', newline='') as f:\n",
    "        writer = csv.writer(f)\n",
    "        headline = [\"iter\", \"energy\"]\n",
    "        for p in range(int(len(initial_gamma))):\n",
    "            headline.append(\"gamma[{}]\".format(p))\n",
    "            headline.append(\"beta[{}]\".format(p))\n",
    "        writer.writerow(headline)\n",
    "\n",
    "result = minimize(energy_dummy, init_param, method=\"BFGS\", jac=lambda params: numerical_gradient(energy_dummy, params), bounds=bounds, callback=callback)#L-BFGS-B\n",
    "\n",
    "print(result)\n",
    "print(history_params)\n",
    "print(history_energy)\n",
    "\n",
    "plt.plot(history_energy)\n",
    "plt.xlabel(\"iterations\")\n",
    "plt.ylabel(\"energy\")\n",
    "plt.show()"
   ]
  },
  {
   "cell_type": "code",
   "execution_count": null,
   "id": "b2766e6d",
   "metadata": {},
   "outputs": [
    {
     "data": {
      "image/png": "[encoded data removed]",
      "text/plain": [
       "<Figure size 640x480 with 1 Axes>"
      ]
     },
     "metadata": {},
     "output_type": "display_data"
    }
   ],
   "source": [
    "from exact_expectation import get_exact_expectation_afm_heisenberg\n",
    "exact_energy, state = get_exact_expectation_afm_heisenberg(length)\n",
    "\n",
    "plt.plot(history_energy/exact_energy)\n",
    "plt.xlabel(\"iterations\")\n",
    "plt.ylabel(\"relative energy\")\n",
    "plt.show()\n"
   ]
  },
  {
   "cell_type": "code",
   "execution_count": null,
   "id": "653eeb63",
   "metadata": {},
   "outputs": [
    {
     "name": "stdout",
     "output_type": "stream",
     "text": [
      "Directory .results/100iter cleared.\n"
     ]
    }
   ],
   "source": [
    "clear_directory(\".results/100iter\")"
   ]
  }
 ],
 "metadata": {
  "kernelspec": {
   "display_name": "Python 3 (ipykernel)",
   "language": "python",
   "name": "python3"
  },
  "language_info": {
   "codemirror_mode": {
    "name": "ipython",
    "version": 3
   },
   "file_extension": ".py",
   "mimetype": "text/x-python",
   "name": "python",
   "nbconvert_exporter": "python",
   "pygments_lexer": "ipython3",
   "version": "3.11.9"
  }
 },
 "nbformat": 4,
 "nbformat_minor": 5
}
